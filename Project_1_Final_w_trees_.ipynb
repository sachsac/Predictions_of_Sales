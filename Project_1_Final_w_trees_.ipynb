{
  "nbformat": 4,
  "nbformat_minor": 0,
  "metadata": {
    "colab": {
      "name": "Project 1 Final w/ trees .ipynb",
      "provenance": [],
      "mount_file_id": "1vXJBu_iwimCtO1deDeMe4Nb_vdZY1q4S",
      "authorship_tag": "ABX9TyNQGTOAt6SgHVFpBVsez0xI",
      "include_colab_link": true
    },
    "kernelspec": {
      "name": "python3",
      "display_name": "Python 3"
    },
    "language_info": {
      "name": "python"
    }
  },
  "cells": [
    {
      "cell_type": "markdown",
      "metadata": {
        "id": "view-in-github",
        "colab_type": "text"
      },
      "source": [
        "<a href=\"https://colab.research.google.com/github/sachsac/Predictions_of_Sales/blob/main/Project_1_Final_w_trees_.ipynb\" target=\"_parent\"><img src=\"https://colab.research.google.com/assets/colab-badge.svg\" alt=\"Open In Colab\"/></a>"
      ]
    },
    {
      "cell_type": "markdown",
      "metadata": {
        "id": "3Cwi9ME8Xzsg"
      },
      "source": [
        "#Data Cleaning Steps"
      ]
    },
    {
      "cell_type": "code",
      "metadata": {
        "id": "JBRFpSPBkdQm",
        "colab": {
          "base_uri": "https://localhost:8080/",
          "height": 204
        },
        "outputId": "b44e3e06-3b5d-4bcb-bcc5-e96059c76dd9"
      },
      "source": [
        "import pandas as pd\n",
        "import numpy as np\n",
        "import seaborn as sns\n",
        "import matplotlib.pyplot as plt\n",
        "from sklearn.metrics import mean_squared_error as MSE\n",
        "filename = '/content/drive/MyDrive/Coding Dojo/data set/sales_predictions.csv'\n",
        "sales_predictions = pd.read_csv(filename)\n",
        "sales_predictions.head()"
      ],
      "execution_count": null,
      "outputs": [
        {
          "output_type": "execute_result",
          "data": {
            "text/html": [
              "<div>\n",
              "<style scoped>\n",
              "    .dataframe tbody tr th:only-of-type {\n",
              "        vertical-align: middle;\n",
              "    }\n",
              "\n",
              "    .dataframe tbody tr th {\n",
              "        vertical-align: top;\n",
              "    }\n",
              "\n",
              "    .dataframe thead th {\n",
              "        text-align: right;\n",
              "    }\n",
              "</style>\n",
              "<table border=\"1\" class=\"dataframe\">\n",
              "  <thead>\n",
              "    <tr style=\"text-align: right;\">\n",
              "      <th></th>\n",
              "      <th>Item_Identifier</th>\n",
              "      <th>Item_Weight</th>\n",
              "      <th>Item_Fat_Content</th>\n",
              "      <th>Item_Visibility</th>\n",
              "      <th>Item_Type</th>\n",
              "      <th>Item_MRP</th>\n",
              "      <th>Outlet_Identifier</th>\n",
              "      <th>Outlet_Establishment_Year</th>\n",
              "      <th>Outlet_Size</th>\n",
              "      <th>Outlet_Location_Type</th>\n",
              "      <th>Outlet_Type</th>\n",
              "      <th>Item_Outlet_Sales</th>\n",
              "    </tr>\n",
              "  </thead>\n",
              "  <tbody>\n",
              "    <tr>\n",
              "      <th>0</th>\n",
              "      <td>FDA15</td>\n",
              "      <td>9.30</td>\n",
              "      <td>Low Fat</td>\n",
              "      <td>0.016047</td>\n",
              "      <td>Dairy</td>\n",
              "      <td>249.8092</td>\n",
              "      <td>OUT049</td>\n",
              "      <td>1999</td>\n",
              "      <td>Medium</td>\n",
              "      <td>Tier 1</td>\n",
              "      <td>Supermarket Type1</td>\n",
              "      <td>3735.1380</td>\n",
              "    </tr>\n",
              "    <tr>\n",
              "      <th>1</th>\n",
              "      <td>DRC01</td>\n",
              "      <td>5.92</td>\n",
              "      <td>Regular</td>\n",
              "      <td>0.019278</td>\n",
              "      <td>Soft Drinks</td>\n",
              "      <td>48.2692</td>\n",
              "      <td>OUT018</td>\n",
              "      <td>2009</td>\n",
              "      <td>Medium</td>\n",
              "      <td>Tier 3</td>\n",
              "      <td>Supermarket Type2</td>\n",
              "      <td>443.4228</td>\n",
              "    </tr>\n",
              "    <tr>\n",
              "      <th>2</th>\n",
              "      <td>FDN15</td>\n",
              "      <td>17.50</td>\n",
              "      <td>Low Fat</td>\n",
              "      <td>0.016760</td>\n",
              "      <td>Meat</td>\n",
              "      <td>141.6180</td>\n",
              "      <td>OUT049</td>\n",
              "      <td>1999</td>\n",
              "      <td>Medium</td>\n",
              "      <td>Tier 1</td>\n",
              "      <td>Supermarket Type1</td>\n",
              "      <td>2097.2700</td>\n",
              "    </tr>\n",
              "    <tr>\n",
              "      <th>3</th>\n",
              "      <td>FDX07</td>\n",
              "      <td>19.20</td>\n",
              "      <td>Regular</td>\n",
              "      <td>0.000000</td>\n",
              "      <td>Fruits and Vegetables</td>\n",
              "      <td>182.0950</td>\n",
              "      <td>OUT010</td>\n",
              "      <td>1998</td>\n",
              "      <td>NaN</td>\n",
              "      <td>Tier 3</td>\n",
              "      <td>Grocery Store</td>\n",
              "      <td>732.3800</td>\n",
              "    </tr>\n",
              "    <tr>\n",
              "      <th>4</th>\n",
              "      <td>NCD19</td>\n",
              "      <td>8.93</td>\n",
              "      <td>Low Fat</td>\n",
              "      <td>0.000000</td>\n",
              "      <td>Household</td>\n",
              "      <td>53.8614</td>\n",
              "      <td>OUT013</td>\n",
              "      <td>1987</td>\n",
              "      <td>High</td>\n",
              "      <td>Tier 3</td>\n",
              "      <td>Supermarket Type1</td>\n",
              "      <td>994.7052</td>\n",
              "    </tr>\n",
              "  </tbody>\n",
              "</table>\n",
              "</div>"
            ],
            "text/plain": [
              "  Item_Identifier  Item_Weight  ...        Outlet_Type  Item_Outlet_Sales\n",
              "0           FDA15         9.30  ...  Supermarket Type1          3735.1380\n",
              "1           DRC01         5.92  ...  Supermarket Type2           443.4228\n",
              "2           FDN15        17.50  ...  Supermarket Type1          2097.2700\n",
              "3           FDX07        19.20  ...      Grocery Store           732.3800\n",
              "4           NCD19         8.93  ...  Supermarket Type1           994.7052\n",
              "\n",
              "[5 rows x 12 columns]"
            ]
          },
          "metadata": {},
          "execution_count": 2
        }
      ]
    },
    {
      "cell_type": "code",
      "metadata": {
        "colab": {
          "base_uri": "https://localhost:8080/"
        },
        "id": "NOyqfjltYoeu",
        "outputId": "194d4497-e1de-4d09-e203-ee747290ad79"
      },
      "source": [
        "#every grocery store is \"small\", Supermarkets can be anything. probably OK to delete this column as well\n",
        "sales_predictions.drop(columns = ['Outlet_Size', 'Item_Weight'], inplace = True)\n",
        "sales_predictions\n",
        "sales_predictions.isnull().sum()"
      ],
      "execution_count": null,
      "outputs": [
        {
          "output_type": "execute_result",
          "data": {
            "text/plain": [
              "Item_Identifier              0\n",
              "Item_Fat_Content             0\n",
              "Item_Visibility              0\n",
              "Item_Type                    0\n",
              "Item_MRP                     0\n",
              "Outlet_Identifier            0\n",
              "Outlet_Establishment_Year    0\n",
              "Outlet_Location_Type         0\n",
              "Outlet_Type                  0\n",
              "Item_Outlet_Sales            0\n",
              "dtype: int64"
            ]
          },
          "metadata": {},
          "execution_count": 3
        }
      ]
    },
    {
      "cell_type": "code",
      "metadata": {
        "colab": {
          "base_uri": "https://localhost:8080/"
        },
        "id": "Wa4w5UGtWcBT",
        "outputId": "00c04cc8-e73c-4b3e-e596-4cb5de9d2603"
      },
      "source": [
        "#Let's simplify, supermarket vs grocery\n",
        "sales_predictions.loc[sales_predictions['Outlet_Type'] == 'Supermarket Type1', 'Outlet_Type'] = 'Supermarket'\n",
        "sales_predictions.loc[sales_predictions['Outlet_Type'] == 'Supermarket Type2', 'Outlet_Type'] = 'Supermarket'\n",
        "sales_predictions.loc[sales_predictions['Outlet_Type'] == 'Supermarket Type3', 'Outlet_Type'] = 'Supermarket'\n",
        "sales_predictions.value_counts('Outlet_Type')"
      ],
      "execution_count": null,
      "outputs": [
        {
          "output_type": "execute_result",
          "data": {
            "text/plain": [
              "Outlet_Type\n",
              "Supermarket      7440\n",
              "Grocery Store    1083\n",
              "dtype: int64"
            ]
          },
          "metadata": {},
          "execution_count": 4
        }
      ]
    },
    {
      "cell_type": "code",
      "metadata": {
        "colab": {
          "base_uri": "https://localhost:8080/"
        },
        "id": "B85fkcxOWBy_",
        "outputId": "b58cbcef-3dcf-4668-b40c-6f9a4d4756c0"
      },
      "source": [
        "#combining unique values into Lowfat vs Regular\n",
        "sales_predictions.loc[sales_predictions['Item_Fat_Content'] == 'LF', 'Item_Fat_Content'] = 'Low Fat'\n",
        "sales_predictions.loc[sales_predictions['Item_Fat_Content'] == 'reg', 'Item_Fat_Content'] = 'Regular'\n",
        "sales_predictions.loc[sales_predictions['Item_Fat_Content'] == 'low fat', 'Item_Fat_Content'] = 'Low Fat'\n",
        "sales_predictions.value_counts('Item_Fat_Content')"
      ],
      "execution_count": null,
      "outputs": [
        {
          "output_type": "execute_result",
          "data": {
            "text/plain": [
              "Item_Fat_Content\n",
              "Low Fat    5517\n",
              "Regular    3006\n",
              "dtype: int64"
            ]
          },
          "metadata": {},
          "execution_count": 5
        }
      ]
    },
    {
      "cell_type": "code",
      "metadata": {
        "id": "MAZf9b4EZ6oS"
      },
      "source": [
        "grocery_store = sales_predictions[sales_predictions['Outlet_Type'] == 'Grocery Store']\n",
        "supermarkets = sales_predictions[sales_predictions['Outlet_Type'] != 'Grocery Store']"
      ],
      "execution_count": null,
      "outputs": []
    },
    {
      "cell_type": "markdown",
      "metadata": {
        "id": "r-DFsisaA-lV"
      },
      "source": [
        "# ML Linear Regression"
      ]
    },
    {
      "cell_type": "code",
      "metadata": {
        "colab": {
          "base_uri": "https://localhost:8080/"
        },
        "id": "EZlEqNIyCj_Y",
        "outputId": "b9658deb-f62c-4316-c0a9-d2a9467596d8"
      },
      "source": [
        "sales_predictions.dtypes"
      ],
      "execution_count": null,
      "outputs": [
        {
          "output_type": "execute_result",
          "data": {
            "text/plain": [
              "Item_Identifier               object\n",
              "Item_Fat_Content              object\n",
              "Item_Visibility              float64\n",
              "Item_Type                     object\n",
              "Item_MRP                     float64\n",
              "Outlet_Identifier             object\n",
              "Outlet_Establishment_Year      int64\n",
              "Outlet_Location_Type          object\n",
              "Outlet_Type                   object\n",
              "Item_Outlet_Sales            float64\n",
              "dtype: object"
            ]
          },
          "metadata": {},
          "execution_count": 7
        }
      ]
    },
    {
      "cell_type": "code",
      "metadata": {
        "colab": {
          "base_uri": "https://localhost:8080/",
          "height": 241
        },
        "id": "tRYMVpbIBASj",
        "outputId": "847a4b4b-863a-493c-fb0f-5c33267f237d"
      },
      "source": [
        "sales_df = pd.get_dummies(sales_predictions, columns = ['Item_Fat_Content', 'Item_Type', 'Outlet_Location_Type', 'Outlet_Type'], drop_first=False)\n",
        "sales_df.head()"
      ],
      "execution_count": null,
      "outputs": [
        {
          "output_type": "execute_result",
          "data": {
            "text/html": [
              "<div>\n",
              "<style scoped>\n",
              "    .dataframe tbody tr th:only-of-type {\n",
              "        vertical-align: middle;\n",
              "    }\n",
              "\n",
              "    .dataframe tbody tr th {\n",
              "        vertical-align: top;\n",
              "    }\n",
              "\n",
              "    .dataframe thead th {\n",
              "        text-align: right;\n",
              "    }\n",
              "</style>\n",
              "<table border=\"1\" class=\"dataframe\">\n",
              "  <thead>\n",
              "    <tr style=\"text-align: right;\">\n",
              "      <th></th>\n",
              "      <th>Item_Identifier</th>\n",
              "      <th>Item_Visibility</th>\n",
              "      <th>Item_MRP</th>\n",
              "      <th>Outlet_Identifier</th>\n",
              "      <th>Outlet_Establishment_Year</th>\n",
              "      <th>Item_Outlet_Sales</th>\n",
              "      <th>Item_Fat_Content_Low Fat</th>\n",
              "      <th>Item_Fat_Content_Regular</th>\n",
              "      <th>Item_Type_Baking Goods</th>\n",
              "      <th>Item_Type_Breads</th>\n",
              "      <th>Item_Type_Breakfast</th>\n",
              "      <th>Item_Type_Canned</th>\n",
              "      <th>Item_Type_Dairy</th>\n",
              "      <th>Item_Type_Frozen Foods</th>\n",
              "      <th>Item_Type_Fruits and Vegetables</th>\n",
              "      <th>Item_Type_Hard Drinks</th>\n",
              "      <th>Item_Type_Health and Hygiene</th>\n",
              "      <th>Item_Type_Household</th>\n",
              "      <th>Item_Type_Meat</th>\n",
              "      <th>Item_Type_Others</th>\n",
              "      <th>Item_Type_Seafood</th>\n",
              "      <th>Item_Type_Snack Foods</th>\n",
              "      <th>Item_Type_Soft Drinks</th>\n",
              "      <th>Item_Type_Starchy Foods</th>\n",
              "      <th>Outlet_Location_Type_Tier 1</th>\n",
              "      <th>Outlet_Location_Type_Tier 2</th>\n",
              "      <th>Outlet_Location_Type_Tier 3</th>\n",
              "      <th>Outlet_Type_Grocery Store</th>\n",
              "      <th>Outlet_Type_Supermarket</th>\n",
              "    </tr>\n",
              "  </thead>\n",
              "  <tbody>\n",
              "    <tr>\n",
              "      <th>0</th>\n",
              "      <td>FDA15</td>\n",
              "      <td>0.016047</td>\n",
              "      <td>249.8092</td>\n",
              "      <td>OUT049</td>\n",
              "      <td>1999</td>\n",
              "      <td>3735.1380</td>\n",
              "      <td>1</td>\n",
              "      <td>0</td>\n",
              "      <td>0</td>\n",
              "      <td>0</td>\n",
              "      <td>0</td>\n",
              "      <td>0</td>\n",
              "      <td>1</td>\n",
              "      <td>0</td>\n",
              "      <td>0</td>\n",
              "      <td>0</td>\n",
              "      <td>0</td>\n",
              "      <td>0</td>\n",
              "      <td>0</td>\n",
              "      <td>0</td>\n",
              "      <td>0</td>\n",
              "      <td>0</td>\n",
              "      <td>0</td>\n",
              "      <td>0</td>\n",
              "      <td>1</td>\n",
              "      <td>0</td>\n",
              "      <td>0</td>\n",
              "      <td>0</td>\n",
              "      <td>1</td>\n",
              "    </tr>\n",
              "    <tr>\n",
              "      <th>1</th>\n",
              "      <td>DRC01</td>\n",
              "      <td>0.019278</td>\n",
              "      <td>48.2692</td>\n",
              "      <td>OUT018</td>\n",
              "      <td>2009</td>\n",
              "      <td>443.4228</td>\n",
              "      <td>0</td>\n",
              "      <td>1</td>\n",
              "      <td>0</td>\n",
              "      <td>0</td>\n",
              "      <td>0</td>\n",
              "      <td>0</td>\n",
              "      <td>0</td>\n",
              "      <td>0</td>\n",
              "      <td>0</td>\n",
              "      <td>0</td>\n",
              "      <td>0</td>\n",
              "      <td>0</td>\n",
              "      <td>0</td>\n",
              "      <td>0</td>\n",
              "      <td>0</td>\n",
              "      <td>0</td>\n",
              "      <td>1</td>\n",
              "      <td>0</td>\n",
              "      <td>0</td>\n",
              "      <td>0</td>\n",
              "      <td>1</td>\n",
              "      <td>0</td>\n",
              "      <td>1</td>\n",
              "    </tr>\n",
              "    <tr>\n",
              "      <th>2</th>\n",
              "      <td>FDN15</td>\n",
              "      <td>0.016760</td>\n",
              "      <td>141.6180</td>\n",
              "      <td>OUT049</td>\n",
              "      <td>1999</td>\n",
              "      <td>2097.2700</td>\n",
              "      <td>1</td>\n",
              "      <td>0</td>\n",
              "      <td>0</td>\n",
              "      <td>0</td>\n",
              "      <td>0</td>\n",
              "      <td>0</td>\n",
              "      <td>0</td>\n",
              "      <td>0</td>\n",
              "      <td>0</td>\n",
              "      <td>0</td>\n",
              "      <td>0</td>\n",
              "      <td>0</td>\n",
              "      <td>1</td>\n",
              "      <td>0</td>\n",
              "      <td>0</td>\n",
              "      <td>0</td>\n",
              "      <td>0</td>\n",
              "      <td>0</td>\n",
              "      <td>1</td>\n",
              "      <td>0</td>\n",
              "      <td>0</td>\n",
              "      <td>0</td>\n",
              "      <td>1</td>\n",
              "    </tr>\n",
              "    <tr>\n",
              "      <th>3</th>\n",
              "      <td>FDX07</td>\n",
              "      <td>0.000000</td>\n",
              "      <td>182.0950</td>\n",
              "      <td>OUT010</td>\n",
              "      <td>1998</td>\n",
              "      <td>732.3800</td>\n",
              "      <td>0</td>\n",
              "      <td>1</td>\n",
              "      <td>0</td>\n",
              "      <td>0</td>\n",
              "      <td>0</td>\n",
              "      <td>0</td>\n",
              "      <td>0</td>\n",
              "      <td>0</td>\n",
              "      <td>1</td>\n",
              "      <td>0</td>\n",
              "      <td>0</td>\n",
              "      <td>0</td>\n",
              "      <td>0</td>\n",
              "      <td>0</td>\n",
              "      <td>0</td>\n",
              "      <td>0</td>\n",
              "      <td>0</td>\n",
              "      <td>0</td>\n",
              "      <td>0</td>\n",
              "      <td>0</td>\n",
              "      <td>1</td>\n",
              "      <td>1</td>\n",
              "      <td>0</td>\n",
              "    </tr>\n",
              "    <tr>\n",
              "      <th>4</th>\n",
              "      <td>NCD19</td>\n",
              "      <td>0.000000</td>\n",
              "      <td>53.8614</td>\n",
              "      <td>OUT013</td>\n",
              "      <td>1987</td>\n",
              "      <td>994.7052</td>\n",
              "      <td>1</td>\n",
              "      <td>0</td>\n",
              "      <td>0</td>\n",
              "      <td>0</td>\n",
              "      <td>0</td>\n",
              "      <td>0</td>\n",
              "      <td>0</td>\n",
              "      <td>0</td>\n",
              "      <td>0</td>\n",
              "      <td>0</td>\n",
              "      <td>0</td>\n",
              "      <td>1</td>\n",
              "      <td>0</td>\n",
              "      <td>0</td>\n",
              "      <td>0</td>\n",
              "      <td>0</td>\n",
              "      <td>0</td>\n",
              "      <td>0</td>\n",
              "      <td>0</td>\n",
              "      <td>0</td>\n",
              "      <td>1</td>\n",
              "      <td>0</td>\n",
              "      <td>1</td>\n",
              "    </tr>\n",
              "  </tbody>\n",
              "</table>\n",
              "</div>"
            ],
            "text/plain": [
              "  Item_Identifier  ...  Outlet_Type_Supermarket\n",
              "0           FDA15  ...                        1\n",
              "1           DRC01  ...                        1\n",
              "2           FDN15  ...                        1\n",
              "3           FDX07  ...                        0\n",
              "4           NCD19  ...                        1\n",
              "\n",
              "[5 rows x 29 columns]"
            ]
          },
          "metadata": {},
          "execution_count": 8
        }
      ]
    },
    {
      "cell_type": "code",
      "metadata": {
        "colab": {
          "base_uri": "https://localhost:8080/"
        },
        "id": "vAgOLf9pbY7k",
        "outputId": "2cde262f-37a4-4a7c-cb63-ae59d8f240ad"
      },
      "source": [
        "y = sales_df['Item_Outlet_Sales']\n",
        "X = sales_df.drop(columns= ['Item_Outlet_Sales', 'Item_Identifier', 'Outlet_Identifier'])\n",
        "X.dtypes\n",
        "#we drop the identifiers because they only help to identify, it is not a factor of items"
      ],
      "execution_count": null,
      "outputs": [
        {
          "output_type": "execute_result",
          "data": {
            "text/plain": [
              "Item_Visibility                    float64\n",
              "Item_MRP                           float64\n",
              "Outlet_Establishment_Year            int64\n",
              "Item_Fat_Content_Low Fat             uint8\n",
              "Item_Fat_Content_Regular             uint8\n",
              "Item_Type_Baking Goods               uint8\n",
              "Item_Type_Breads                     uint8\n",
              "Item_Type_Breakfast                  uint8\n",
              "Item_Type_Canned                     uint8\n",
              "Item_Type_Dairy                      uint8\n",
              "Item_Type_Frozen Foods               uint8\n",
              "Item_Type_Fruits and Vegetables      uint8\n",
              "Item_Type_Hard Drinks                uint8\n",
              "Item_Type_Health and Hygiene         uint8\n",
              "Item_Type_Household                  uint8\n",
              "Item_Type_Meat                       uint8\n",
              "Item_Type_Others                     uint8\n",
              "Item_Type_Seafood                    uint8\n",
              "Item_Type_Snack Foods                uint8\n",
              "Item_Type_Soft Drinks                uint8\n",
              "Item_Type_Starchy Foods              uint8\n",
              "Outlet_Location_Type_Tier 1          uint8\n",
              "Outlet_Location_Type_Tier 2          uint8\n",
              "Outlet_Location_Type_Tier 3          uint8\n",
              "Outlet_Type_Grocery Store            uint8\n",
              "Outlet_Type_Supermarket              uint8\n",
              "dtype: object"
            ]
          },
          "metadata": {},
          "execution_count": 9
        }
      ]
    },
    {
      "cell_type": "code",
      "metadata": {
        "id": "-NJdROuKb5O-"
      },
      "source": [
        "#train/test split\n",
        "from sklearn.model_selection import train_test_split\n",
        "X_train, X_test, y_train, y_test = train_test_split(X, y, random_state = 42)"
      ],
      "execution_count": null,
      "outputs": []
    },
    {
      "cell_type": "code",
      "metadata": {
        "colab": {
          "base_uri": "https://localhost:8080/"
        },
        "id": "Q1eCDm-7b_7m",
        "outputId": "bfd6e53e-85a3-4648-b873-153250d98c17"
      },
      "source": [
        "#fit the model.\n",
        "from sklearn.linear_model import LinearRegression\n",
        "sales_model = LinearRegression()\n",
        "sales_model.fit(X_train, y_train)"
      ],
      "execution_count": null,
      "outputs": [
        {
          "output_type": "execute_result",
          "data": {
            "text/plain": [
              "LinearRegression(copy_X=True, fit_intercept=True, n_jobs=None, normalize=False)"
            ]
          },
          "metadata": {},
          "execution_count": 11
        }
      ]
    },
    {
      "cell_type": "code",
      "metadata": {
        "colab": {
          "base_uri": "https://localhost:8080/"
        },
        "id": "AE7WubY5cPyF",
        "outputId": "48967761-27ef-434c-ea85-909dacc23bfb"
      },
      "source": [
        "from sklearn.metrics import r2_score\n",
        "#R2 scores\n",
        "print('Training R^2:', r2_score(y_train, sales_model.predict(X_train)))\n",
        "print('Testing R^2:', r2_score(y_test, sales_model.predict(X_test)))\n",
        "# % of variance is due to features' data"
      ],
      "execution_count": null,
      "outputs": [
        {
          "output_type": "stream",
          "text": [
            "Training R^2: 0.5264424685603024\n",
            "Testing R^2: 0.5183542888366527\n"
          ],
          "name": "stdout"
        }
      ]
    },
    {
      "cell_type": "markdown",
      "metadata": {
        "id": "b3AIa7eBdEk6"
      },
      "source": [
        "The test set results are comparable to the Training though is slightly above 50%"
      ]
    },
    {
      "cell_type": "code",
      "metadata": {
        "colab": {
          "base_uri": "https://localhost:8080/"
        },
        "id": "Qdh-6-dEcGGJ",
        "outputId": "d5c838af-e651-415c-b926-2e119bfdab7d"
      },
      "source": [
        "from sklearn.metrics import mean_squared_error\n",
        "#RMSE\n",
        "print('Training RMSE:', np.sqrt(mean_squared_error(y_train, sales_model.predict(X_train))))\n",
        "print('Testing RMSE:', np.sqrt(mean_squared_error(y_test, sales_model.predict(X_test))))\n",
        "#ends up being same unit as target vector\n",
        "#gives +/ - value of what you are predicting\n",
        "#The Test RMSE is comparable (close) to the Training set RMSE."
      ],
      "execution_count": null,
      "outputs": [
        {
          "output_type": "stream",
          "text": [
            "Training RMSE: 1183.838053891126\n",
            "Testing RMSE: 1152.7573803143312\n"
          ],
          "name": "stdout"
        }
      ]
    },
    {
      "cell_type": "code",
      "metadata": {
        "colab": {
          "base_uri": "https://localhost:8080/"
        },
        "id": "2GOWf-yDeZgx",
        "outputId": "35e8f1f4-0e9d-4a79-bb00-d7465e78f0b8"
      },
      "source": [
        "importance = sales_model.coef_\n",
        "for i,v in enumerate(importance):\n",
        "\tprint('Feature: %0d, Score: %.5f' % (i,v))\n",
        " #5f is decimal allowance\n",
        " #code from https://machinelearningmastery.com/calculate-feature-importance-with-python/ for formatting"
      ],
      "execution_count": null,
      "outputs": [
        {
          "output_type": "stream",
          "text": [
            "Feature: 0, Score: -503.72958\n",
            "Feature: 1, Score: 15.65804\n",
            "Feature: 2, Score: -42.31077\n",
            "Feature: 3, Score: -27.36625\n",
            "Feature: 4, Score: 27.36625\n",
            "Feature: 5, Score: -23.55031\n",
            "Feature: 6, Score: -46.41212\n",
            "Feature: 7, Score: 18.30107\n",
            "Feature: 8, Score: 20.44505\n",
            "Feature: 9, Score: -142.08472\n",
            "Feature: 10, Score: -8.81382\n",
            "Feature: 11, Score: 21.49522\n",
            "Feature: 12, Score: 3.40535\n",
            "Feature: 13, Score: 14.20567\n",
            "Feature: 14, Score: -18.99904\n",
            "Feature: 15, Score: -7.70373\n",
            "Feature: 16, Score: -73.44255\n",
            "Feature: 17, Score: 316.02691\n",
            "Feature: 18, Score: -38.11804\n",
            "Feature: 19, Score: -58.33754\n",
            "Feature: 20, Score: 23.58261\n",
            "Feature: 21, Score: -194.26503\n",
            "Feature: 22, Score: 121.95798\n",
            "Feature: 23, Score: 72.30705\n",
            "Feature: 24, Score: -1153.47433\n",
            "Feature: 25, Score: 1153.47433\n"
          ],
          "name": "stdout"
        }
      ]
    },
    {
      "cell_type": "code",
      "metadata": {
        "colab": {
          "base_uri": "https://localhost:8080/",
          "height": 241
        },
        "id": "czGulkRxiJ_J",
        "outputId": "b237c5c8-2bdc-4a21-ecd2-7764a77f916f"
      },
      "source": [
        "#what are these? use X.head() \n",
        "X.head()"
      ],
      "execution_count": null,
      "outputs": [
        {
          "output_type": "execute_result",
          "data": {
            "text/html": [
              "<div>\n",
              "<style scoped>\n",
              "    .dataframe tbody tr th:only-of-type {\n",
              "        vertical-align: middle;\n",
              "    }\n",
              "\n",
              "    .dataframe tbody tr th {\n",
              "        vertical-align: top;\n",
              "    }\n",
              "\n",
              "    .dataframe thead th {\n",
              "        text-align: right;\n",
              "    }\n",
              "</style>\n",
              "<table border=\"1\" class=\"dataframe\">\n",
              "  <thead>\n",
              "    <tr style=\"text-align: right;\">\n",
              "      <th></th>\n",
              "      <th>Item_Visibility</th>\n",
              "      <th>Item_MRP</th>\n",
              "      <th>Outlet_Establishment_Year</th>\n",
              "      <th>Item_Fat_Content_Low Fat</th>\n",
              "      <th>Item_Fat_Content_Regular</th>\n",
              "      <th>Item_Type_Baking Goods</th>\n",
              "      <th>Item_Type_Breads</th>\n",
              "      <th>Item_Type_Breakfast</th>\n",
              "      <th>Item_Type_Canned</th>\n",
              "      <th>Item_Type_Dairy</th>\n",
              "      <th>Item_Type_Frozen Foods</th>\n",
              "      <th>Item_Type_Fruits and Vegetables</th>\n",
              "      <th>Item_Type_Hard Drinks</th>\n",
              "      <th>Item_Type_Health and Hygiene</th>\n",
              "      <th>Item_Type_Household</th>\n",
              "      <th>Item_Type_Meat</th>\n",
              "      <th>Item_Type_Others</th>\n",
              "      <th>Item_Type_Seafood</th>\n",
              "      <th>Item_Type_Snack Foods</th>\n",
              "      <th>Item_Type_Soft Drinks</th>\n",
              "      <th>Item_Type_Starchy Foods</th>\n",
              "      <th>Outlet_Location_Type_Tier 1</th>\n",
              "      <th>Outlet_Location_Type_Tier 2</th>\n",
              "      <th>Outlet_Location_Type_Tier 3</th>\n",
              "      <th>Outlet_Type_Grocery Store</th>\n",
              "      <th>Outlet_Type_Supermarket</th>\n",
              "    </tr>\n",
              "  </thead>\n",
              "  <tbody>\n",
              "    <tr>\n",
              "      <th>0</th>\n",
              "      <td>0.016047</td>\n",
              "      <td>249.8092</td>\n",
              "      <td>1999</td>\n",
              "      <td>1</td>\n",
              "      <td>0</td>\n",
              "      <td>0</td>\n",
              "      <td>0</td>\n",
              "      <td>0</td>\n",
              "      <td>0</td>\n",
              "      <td>1</td>\n",
              "      <td>0</td>\n",
              "      <td>0</td>\n",
              "      <td>0</td>\n",
              "      <td>0</td>\n",
              "      <td>0</td>\n",
              "      <td>0</td>\n",
              "      <td>0</td>\n",
              "      <td>0</td>\n",
              "      <td>0</td>\n",
              "      <td>0</td>\n",
              "      <td>0</td>\n",
              "      <td>1</td>\n",
              "      <td>0</td>\n",
              "      <td>0</td>\n",
              "      <td>0</td>\n",
              "      <td>1</td>\n",
              "    </tr>\n",
              "    <tr>\n",
              "      <th>1</th>\n",
              "      <td>0.019278</td>\n",
              "      <td>48.2692</td>\n",
              "      <td>2009</td>\n",
              "      <td>0</td>\n",
              "      <td>1</td>\n",
              "      <td>0</td>\n",
              "      <td>0</td>\n",
              "      <td>0</td>\n",
              "      <td>0</td>\n",
              "      <td>0</td>\n",
              "      <td>0</td>\n",
              "      <td>0</td>\n",
              "      <td>0</td>\n",
              "      <td>0</td>\n",
              "      <td>0</td>\n",
              "      <td>0</td>\n",
              "      <td>0</td>\n",
              "      <td>0</td>\n",
              "      <td>0</td>\n",
              "      <td>1</td>\n",
              "      <td>0</td>\n",
              "      <td>0</td>\n",
              "      <td>0</td>\n",
              "      <td>1</td>\n",
              "      <td>0</td>\n",
              "      <td>1</td>\n",
              "    </tr>\n",
              "    <tr>\n",
              "      <th>2</th>\n",
              "      <td>0.016760</td>\n",
              "      <td>141.6180</td>\n",
              "      <td>1999</td>\n",
              "      <td>1</td>\n",
              "      <td>0</td>\n",
              "      <td>0</td>\n",
              "      <td>0</td>\n",
              "      <td>0</td>\n",
              "      <td>0</td>\n",
              "      <td>0</td>\n",
              "      <td>0</td>\n",
              "      <td>0</td>\n",
              "      <td>0</td>\n",
              "      <td>0</td>\n",
              "      <td>0</td>\n",
              "      <td>1</td>\n",
              "      <td>0</td>\n",
              "      <td>0</td>\n",
              "      <td>0</td>\n",
              "      <td>0</td>\n",
              "      <td>0</td>\n",
              "      <td>1</td>\n",
              "      <td>0</td>\n",
              "      <td>0</td>\n",
              "      <td>0</td>\n",
              "      <td>1</td>\n",
              "    </tr>\n",
              "    <tr>\n",
              "      <th>3</th>\n",
              "      <td>0.000000</td>\n",
              "      <td>182.0950</td>\n",
              "      <td>1998</td>\n",
              "      <td>0</td>\n",
              "      <td>1</td>\n",
              "      <td>0</td>\n",
              "      <td>0</td>\n",
              "      <td>0</td>\n",
              "      <td>0</td>\n",
              "      <td>0</td>\n",
              "      <td>0</td>\n",
              "      <td>1</td>\n",
              "      <td>0</td>\n",
              "      <td>0</td>\n",
              "      <td>0</td>\n",
              "      <td>0</td>\n",
              "      <td>0</td>\n",
              "      <td>0</td>\n",
              "      <td>0</td>\n",
              "      <td>0</td>\n",
              "      <td>0</td>\n",
              "      <td>0</td>\n",
              "      <td>0</td>\n",
              "      <td>1</td>\n",
              "      <td>1</td>\n",
              "      <td>0</td>\n",
              "    </tr>\n",
              "    <tr>\n",
              "      <th>4</th>\n",
              "      <td>0.000000</td>\n",
              "      <td>53.8614</td>\n",
              "      <td>1987</td>\n",
              "      <td>1</td>\n",
              "      <td>0</td>\n",
              "      <td>0</td>\n",
              "      <td>0</td>\n",
              "      <td>0</td>\n",
              "      <td>0</td>\n",
              "      <td>0</td>\n",
              "      <td>0</td>\n",
              "      <td>0</td>\n",
              "      <td>0</td>\n",
              "      <td>0</td>\n",
              "      <td>1</td>\n",
              "      <td>0</td>\n",
              "      <td>0</td>\n",
              "      <td>0</td>\n",
              "      <td>0</td>\n",
              "      <td>0</td>\n",
              "      <td>0</td>\n",
              "      <td>0</td>\n",
              "      <td>0</td>\n",
              "      <td>1</td>\n",
              "      <td>0</td>\n",
              "      <td>1</td>\n",
              "    </tr>\n",
              "  </tbody>\n",
              "</table>\n",
              "</div>"
            ],
            "text/plain": [
              "   Item_Visibility  ...  Outlet_Type_Supermarket\n",
              "0         0.016047  ...                        1\n",
              "1         0.019278  ...                        1\n",
              "2         0.016760  ...                        1\n",
              "3         0.000000  ...                        0\n",
              "4         0.000000  ...                        1\n",
              "\n",
              "[5 rows x 26 columns]"
            ]
          },
          "metadata": {},
          "execution_count": 15
        }
      ]
    },
    {
      "cell_type": "code",
      "metadata": {
        "colab": {
          "base_uri": "https://localhost:8080/",
          "height": 295
        },
        "id": "P4QDAt8Bi-yB",
        "outputId": "c1428e85-fa1a-4fc9-fb10-645f3bbe9b55"
      },
      "source": [
        "import matplotlib.pyplot as plt\n",
        "plt.grid()\n",
        "plt.bar([x for x in range(len(importance))], importance)\n",
        "plt.xlim(-1, 26)\n",
        "x=np.random.randint(low=0, high=26, size=26)\n",
        "plt.xticks(np.arange(0, len(x)+1, 1))\n",
        "plt.ylim(-1200, 1200);\n",
        "plt.title('Importance of Features')\n",
        "plt.ylabel('Importance Score')\n",
        "plt.xlabel('Features');\n",
        "#a plot can help make sense of it"
      ],
      "execution_count": null,
      "outputs": [
        {
          "output_type": "display_data",
          "data": {
            "image/png": "[encoded data removed]",
            "text/plain": [
              "<Figure size 432x288 with 1 Axes>"
            ]
          },
          "metadata": {
            "needs_background": "light"
          }
        }
      ]
    },
    {
      "cell_type": "markdown",
      "metadata": {
        "id": "Zn3dmFvewDev"
      },
      "source": [
        "Features 25, 17, 22, and 23 are the most affective:\n",
        "Outlet_Type_Supermarket, Outlet_Location_Type_Tier 3, Outlet_Location_Type_Tier 2 (so Tier types in general), and Item_Type_Seafood. Outlet type (grocery vs supermarket) being by far the most associated.\n",
        "Features 24 and 0 NEGATIVELY greatly impact our sales. Which are Grocery store (24) and item visibility."
      ]
    },
    {
      "cell_type": "markdown",
      "metadata": {
        "id": "i72iMgrXsCQ6"
      },
      "source": [
        "# Simple Decision Tree"
      ]
    },
    {
      "cell_type": "code",
      "metadata": {
        "id": "mFz62f2tsFRh"
      },
      "source": [
        "#we can use previous X & y and train/test split. only new things we need to do is make instance and load sklearn\n",
        "from sklearn.tree import DecisionTreeRegressor"
      ],
      "execution_count": null,
      "outputs": []
    },
    {
      "cell_type": "code",
      "metadata": {
        "id": "FgVfHcRhsgEJ"
      },
      "source": [
        "simple_tree = DecisionTreeRegressor(random_state = 42)"
      ],
      "execution_count": null,
      "outputs": []
    },
    {
      "cell_type": "code",
      "metadata": {
        "colab": {
          "base_uri": "https://localhost:8080/"
        },
        "id": "wSDfP3fZstgJ",
        "outputId": "e33d4b25-ad95-4dba-b984-0be1e5024aa5"
      },
      "source": [
        "simple_tree.fit(X_train, y_train)"
      ],
      "execution_count": null,
      "outputs": [
        {
          "output_type": "execute_result",
          "data": {
            "text/plain": [
              "DecisionTreeRegressor(ccp_alpha=0.0, criterion='mse', max_depth=None,\n",
              "                      max_features=None, max_leaf_nodes=None,\n",
              "                      min_impurity_decrease=0.0, min_impurity_split=None,\n",
              "                      min_samples_leaf=1, min_samples_split=2,\n",
              "                      min_weight_fraction_leaf=0.0, presort='deprecated',\n",
              "                      random_state=42, splitter='best')"
            ]
          },
          "metadata": {},
          "execution_count": 19
        }
      ]
    },
    {
      "cell_type": "code",
      "metadata": {
        "colab": {
          "base_uri": "https://localhost:8080/"
        },
        "id": "ysyP_TrdsyIq",
        "outputId": "7635e630-039f-4e27-e263-9777f036cc3f"
      },
      "source": [
        "#1 evaluate with default parameters\n",
        "print('Default Simple Tree Training R^2 score:', r2_score(y_train, simple_tree.predict(X_train)))\n",
        "print('Default Simple Tree Testing R^2 score:', r2_score(y_test, simple_tree.predict(X_test)))\n",
        "#Not a good score at all!"
      ],
      "execution_count": null,
      "outputs": [
        {
          "output_type": "stream",
          "text": [
            "Default Simple Tree Training R^2 score: 1.0\n",
            "Default Simple Tree Testing R^2 score: 0.21100492224876632\n"
          ],
          "name": "stdout"
        }
      ]
    },
    {
      "cell_type": "code",
      "metadata": {
        "colab": {
          "base_uri": "https://localhost:8080/"
        },
        "id": "xSrzjczjs-6B",
        "outputId": "bb7155fb-c7d4-441d-d283-79e8f5cd6842"
      },
      "source": [
        "#what is our current depth?\n",
        "simple_tree.get_depth()"
      ],
      "execution_count": null,
      "outputs": [
        {
          "output_type": "execute_result",
          "data": {
            "text/plain": [
              "41"
            ]
          },
          "metadata": {},
          "execution_count": 21
        }
      ]
    },
    {
      "cell_type": "code",
      "metadata": {
        "id": "IhbGeUUktDoc"
      },
      "source": [
        "#list to search for max depth\n",
        "max_depth_range = list(range(1,41)) #testing all between 1 and the max depth (41)\n",
        "\n",
        "#storing the scores, basically setting up every step to be iterated for each different depth\n",
        "r2 = []\n",
        "for depth in max_depth_range:\n",
        "  simple_tree = DecisionTreeRegressor(max_depth=depth,\n",
        "                                   random_state = 42)\n",
        "  simple_tree.fit(X_train, y_train)\n",
        "  score = simple_tree.score(X_test, y_test) #the score for the test is the one we want to improve\n",
        "  r2.append(score)"
      ],
      "execution_count": null,
      "outputs": []
    },
    {
      "cell_type": "code",
      "metadata": {
        "colab": {
          "base_uri": "https://localhost:8080/",
          "height": 280
        },
        "id": "XmiHSxEttLGJ",
        "outputId": "543d5b27-2cd5-4f24-a007-3a55b0970509"
      },
      "source": [
        "#visualize to see\n",
        "# Visualize which max_depth leads to the highest r2 score\n",
        "plt.plot(max_depth_range, r2)\n",
        "plt.xlabel('max_depth')\n",
        "plt.grid()\n",
        "plt.ylabel('R2');\n",
        "#optimized depth is 5"
      ],
      "execution_count": null,
      "outputs": [
        {
          "output_type": "display_data",
          "data": {
            "image/png": "[encoded data removed]",
            "text/plain": [
              "<Figure size 432x288 with 1 Axes>"
            ]
          },
          "metadata": {
            "needs_background": "light"
          }
        }
      ]
    },
    {
      "cell_type": "code",
      "metadata": {
        "colab": {
          "base_uri": "https://localhost:8080/"
        },
        "id": "KKD6MWFntS9t",
        "outputId": "e55bd0cd-1acd-4249-a1c6-f5654dda58de"
      },
      "source": [
        "#optimized simple tree\n",
        "simple_tree_5 = DecisionTreeRegressor(max_depth = 5, random_state = 42)\n",
        "simple_tree_5.fit(X_train, y_train)"
      ],
      "execution_count": null,
      "outputs": [
        {
          "output_type": "execute_result",
          "data": {
            "text/plain": [
              "DecisionTreeRegressor(ccp_alpha=0.0, criterion='mse', max_depth=5,\n",
              "                      max_features=None, max_leaf_nodes=None,\n",
              "                      min_impurity_decrease=0.0, min_impurity_split=None,\n",
              "                      min_samples_leaf=1, min_samples_split=2,\n",
              "                      min_weight_fraction_leaf=0.0, presort='deprecated',\n",
              "                      random_state=42, splitter='best')"
            ]
          },
          "metadata": {},
          "execution_count": 24
        }
      ]
    },
    {
      "cell_type": "code",
      "metadata": {
        "colab": {
          "base_uri": "https://localhost:8080/"
        },
        "id": "vwNFEn1PAGRc",
        "outputId": "752febf6-609f-448b-bcc0-6d341422dc43"
      },
      "source": [
        "print('Optimized Simple Tree Training R^2 score:', r2_score(y_train, simple_tree_5.predict(X_train)))\n",
        "print('Optimized Simple Tree Testing R^2 score:', r2_score(y_test, simple_tree_5.predict(X_test)))\n",
        "#still not great, but they are at least performing more similarly!"
      ],
      "execution_count": null,
      "outputs": [
        {
          "output_type": "stream",
          "text": [
            "Optimized Simple Tree Training R^2 score: 0.6039254897160836\n",
            "Optimized Simple Tree Testing R^2 score: 0.5947470502499344\n"
          ],
          "name": "stdout"
        }
      ]
    },
    {
      "cell_type": "markdown",
      "metadata": {
        "id": "T2Sb85MRsF65"
      },
      "source": [
        "#Bagged Tree"
      ]
    },
    {
      "cell_type": "code",
      "metadata": {
        "id": "Rcq-Fkh7sH4m"
      },
      "source": [
        "#again, do not need to repeat setting up X and y.\n",
        "#need to import bag regression\n",
        "from sklearn.ensemble import BaggingRegressor"
      ],
      "execution_count": null,
      "outputs": []
    },
    {
      "cell_type": "code",
      "metadata": {
        "colab": {
          "base_uri": "https://localhost:8080/"
        },
        "id": "A-WoetIhuIjf",
        "outputId": "0172fe05-d2ef-4d7d-8767-1696e4633c47"
      },
      "source": [
        "bagged_tree = BaggingRegressor(random_state=42)\n",
        "bagged_tree"
      ],
      "execution_count": null,
      "outputs": [
        {
          "output_type": "execute_result",
          "data": {
            "text/plain": [
              "BaggingRegressor(base_estimator=None, bootstrap=True, bootstrap_features=False,\n",
              "                 max_features=1.0, max_samples=1.0, n_estimators=10,\n",
              "                 n_jobs=None, oob_score=False, random_state=42, verbose=0,\n",
              "                 warm_start=False)"
            ]
          },
          "metadata": {},
          "execution_count": 27
        }
      ]
    },
    {
      "cell_type": "code",
      "metadata": {
        "colab": {
          "base_uri": "https://localhost:8080/"
        },
        "id": "DGDq7MAzvspk",
        "outputId": "02b61cc8-c88a-4602-bc8a-f742bc0eb0ac"
      },
      "source": [
        "bagged_tree.fit(X_train, y_train)"
      ],
      "execution_count": null,
      "outputs": [
        {
          "output_type": "execute_result",
          "data": {
            "text/plain": [
              "BaggingRegressor(base_estimator=None, bootstrap=True, bootstrap_features=False,\n",
              "                 max_features=1.0, max_samples=1.0, n_estimators=10,\n",
              "                 n_jobs=None, oob_score=False, random_state=42, verbose=0,\n",
              "                 warm_start=False)"
            ]
          },
          "metadata": {},
          "execution_count": 28
        }
      ]
    },
    {
      "cell_type": "code",
      "metadata": {
        "colab": {
          "base_uri": "https://localhost:8080/"
        },
        "id": "43dvzVpPvjhA",
        "outputId": "d745bee8-06c7-43a8-a3ff-bf40f6691a53"
      },
      "source": [
        "bagged_tree.predict(X_test)"
      ],
      "execution_count": null,
      "outputs": [
        {
          "output_type": "execute_result",
          "data": {
            "text/plain": [
              "array([ 577.11544,  868.80242,  923.26486, ..., 4210.65236, 2164.24948,\n",
              "       2384.29638])"
            ]
          },
          "metadata": {},
          "execution_count": 29
        }
      ]
    },
    {
      "cell_type": "code",
      "metadata": {
        "id": "4oWt6kRrwgnw"
      },
      "source": [
        "bagged_train_score = bagged_tree.score(X_train, y_train)\n",
        "bagged_test_score = bagged_tree.score(X_test, y_test)"
      ],
      "execution_count": null,
      "outputs": []
    },
    {
      "cell_type": "code",
      "metadata": {
        "colab": {
          "base_uri": "https://localhost:8080/"
        },
        "id": "ppS6XOnvAHz2",
        "outputId": "8ced26a7-ee58-4c50-a196-ee9d9a2d4832"
      },
      "source": [
        "print('Default Bagged Trees Training R^2 Score:', bagged_train_score)\n",
        "print('Default Bagged Trees Testing R^2 Score:', bagged_test_score)\n",
        "#testing score does not perform very well"
      ],
      "execution_count": null,
      "outputs": [
        {
          "output_type": "stream",
          "text": [
            "Default Bagged Trees Training R^2 Score: 0.9190346131508617\n",
            "Default Bagged Trees Testing R^2 Score: 0.5262588782378272\n"
          ],
          "name": "stdout"
        }
      ]
    },
    {
      "cell_type": "code",
      "metadata": {
        "colab": {
          "base_uri": "https://localhost:8080/"
        },
        "id": "tVi3KYCtAanS",
        "outputId": "49a5baf5-88ab-4478-afbd-8bc213ee4995"
      },
      "source": [
        "bt_40 = BaggingRegressor(n_estimators= 40, random_state = 42)\n",
        "bt_40.fit(X_train, y_train)\n",
        "bt_40_train_score = bt_40.score(X_train, y_train)\n",
        "bt_40_test_score = bt_40.score(X_test, y_test)\n",
        "print('Bagged Trees n_estimators at 40 Score:', bt_40_train_score)\n",
        "print('Bagged Trees n_estimators at 40 Testing Score:', bt_40_test_score)"
      ],
      "execution_count": null,
      "outputs": [
        {
          "output_type": "stream",
          "text": [
            "Bagged Trees n_estimators at 40 Score: 0.9335118655384499\n",
            "Bagged Trees n_estimators at 40 Testing Score: 0.5445445533778177\n"
          ],
          "name": "stdout"
        }
      ]
    },
    {
      "cell_type": "code",
      "metadata": {
        "colab": {
          "base_uri": "https://localhost:8080/"
        },
        "id": "5uYjfT2L0B4d",
        "outputId": "8409aa27-8077-4d3b-af1f-482877731a2f"
      },
      "source": [
        "bt_400 = BaggingRegressor(n_estimators= 400, random_state = 42)\n",
        "bt_400.fit(X_train, y_train)\n",
        "bt_400_train_score = bt_400.score(X_train, y_train)\n",
        "bt_400_test_score = bt_400.score(X_test, y_test)\n",
        "print('Bagged Trees n_estimators at 400 Training Score:', bt_400_train_score)\n",
        "print('Bagged Trees n_estimators at 400 Testing Score:', bt_400_test_score)"
      ],
      "execution_count": null,
      "outputs": [
        {
          "output_type": "stream",
          "text": [
            "Bagged Trees n_estimators at 400 Training Score: 0.9393579272736498\n",
            "Bagged Trees n_estimators at 400 Testing Score: 0.55099315926325\n"
          ],
          "name": "stdout"
        }
      ]
    },
    {
      "cell_type": "markdown",
      "metadata": {
        "id": "36ZYRq-NsISE"
      },
      "source": [
        "#Random Forest Model"
      ]
    },
    {
      "cell_type": "code",
      "metadata": {
        "id": "G3_slXE9-xhA"
      },
      "source": [
        "from sklearn.ensemble import RandomForestRegressor"
      ],
      "execution_count": null,
      "outputs": []
    },
    {
      "cell_type": "code",
      "metadata": {
        "colab": {
          "base_uri": "https://localhost:8080/"
        },
        "id": "h39I6Ud2-94Z",
        "outputId": "092b4a93-449f-451e-f2e9-ebfa850a56a1"
      },
      "source": [
        "rf = RandomForestRegressor(random_state=42)\n",
        "rf"
      ],
      "execution_count": null,
      "outputs": [
        {
          "output_type": "execute_result",
          "data": {
            "text/plain": [
              "RandomForestRegressor(bootstrap=True, ccp_alpha=0.0, criterion='mse',\n",
              "                      max_depth=None, max_features='auto', max_leaf_nodes=None,\n",
              "                      max_samples=None, min_impurity_decrease=0.0,\n",
              "                      min_impurity_split=None, min_samples_leaf=1,\n",
              "                      min_samples_split=2, min_weight_fraction_leaf=0.0,\n",
              "                      n_estimators=100, n_jobs=None, oob_score=False,\n",
              "                      random_state=42, verbose=0, warm_start=False)"
            ]
          },
          "metadata": {},
          "execution_count": 35
        }
      ]
    },
    {
      "cell_type": "code",
      "metadata": {
        "colab": {
          "base_uri": "https://localhost:8080/"
        },
        "id": "u7zX8uJE_KKP",
        "outputId": "01101e3d-348e-4ab9-f87a-c262c8adc068"
      },
      "source": [
        "#fit  \n",
        "rf.fit(X_train, y_train)"
      ],
      "execution_count": null,
      "outputs": [
        {
          "output_type": "execute_result",
          "data": {
            "text/plain": [
              "RandomForestRegressor(bootstrap=True, ccp_alpha=0.0, criterion='mse',\n",
              "                      max_depth=None, max_features='auto', max_leaf_nodes=None,\n",
              "                      max_samples=None, min_impurity_decrease=0.0,\n",
              "                      min_impurity_split=None, min_samples_leaf=1,\n",
              "                      min_samples_split=2, min_weight_fraction_leaf=0.0,\n",
              "                      n_estimators=100, n_jobs=None, oob_score=False,\n",
              "                      random_state=42, verbose=0, warm_start=False)"
            ]
          },
          "metadata": {},
          "execution_count": 36
        }
      ]
    },
    {
      "cell_type": "code",
      "metadata": {
        "colab": {
          "base_uri": "https://localhost:8080/"
        },
        "id": "fs5R5hOV_OoU",
        "outputId": "a3d22900-4c10-460d-95da-3fe67732c1bf"
      },
      "source": [
        "#predict\n",
        "rf.predict(X_test)"
      ],
      "execution_count": null,
      "outputs": [
        {
          "output_type": "execute_result",
          "data": {
            "text/plain": [
              "array([ 707.692136,  829.114082,  838.64168 , ..., 4175.06535 ,\n",
              "       2013.718758, 2361.452782])"
            ]
          },
          "metadata": {},
          "execution_count": 37
        }
      ]
    },
    {
      "cell_type": "code",
      "metadata": {
        "colab": {
          "base_uri": "https://localhost:8080/"
        },
        "id": "76ZnQNAVALVf",
        "outputId": "09188ea4-e201-4f61-9d2c-5a3a22e77247"
      },
      "source": [
        "rf_train_score = rf.score(X_train, y_train)\n",
        "rf_test_score = rf.score(X_test, y_test)\n",
        "print('Random Forests R^2 Training score:', rf_train_score)\n",
        "print('Random Forests R^2 Testing score:', rf_test_score)"
      ],
      "execution_count": null,
      "outputs": [
        {
          "output_type": "stream",
          "text": [
            "Random Forests R^2 Training score: 0.9375267477385607\n",
            "Random Forests R^2 Testing score: 0.5530634318607264\n"
          ],
          "name": "stdout"
        }
      ]
    },
    {
      "cell_type": "code",
      "metadata": {
        "colab": {
          "base_uri": "https://localhost:8080/"
        },
        "id": "Xq9z2eXrAP5W",
        "outputId": "3ca7e9c8-35a0-42f7-afae-befeb975f000"
      },
      "source": [
        "rf_5 = RandomForestRegressor(max_depth = 5, random_state = 42)\n",
        "rf_5.fit(X_train, y_train)\n",
        "rf_5_train_score = rf_5.score(X_train, y_train)\n",
        "rf_5_test_score = rf_5.score(X_test, y_test)\n",
        "print('Random Forests Optimized Training Score:', rf_5_train_score)\n",
        "print('Random Forests Optimized Testing Score:', rf_5_test_score)\n",
        "#better AND closer"
      ],
      "execution_count": null,
      "outputs": [
        {
          "output_type": "stream",
          "text": [
            "Random Forests Optimized Training Score: 0.6104682601982897\n",
            "Random Forests Optimized Testing Score: 0.6026003233209926\n"
          ],
          "name": "stdout"
        }
      ]
    },
    {
      "cell_type": "markdown",
      "metadata": {
        "id": "7CPk87-I347M"
      },
      "source": [
        "# R2 Scores"
      ]
    },
    {
      "cell_type": "code",
      "metadata": {
        "colab": {
          "base_uri": "https://localhost:8080/"
        },
        "id": "amfxEF5-5SOr",
        "outputId": "f96db987-72ca-407f-b436-4aa564d8460d"
      },
      "source": [
        "print('Linear Regression Training R^2 score:', r2_score(y_train, sales_model.predict(X_train)))\n",
        "print('Linear Regression Testing R^2 score:', r2_score(y_test, sales_model.predict(X_test)))"
      ],
      "execution_count": null,
      "outputs": [
        {
          "output_type": "stream",
          "text": [
            "Linear Regression Training R^2 score: 0.5264424685603024\n",
            "Linear Regression Testing R^2 score: 0.5183542888366527\n"
          ],
          "name": "stdout"
        }
      ]
    },
    {
      "cell_type": "code",
      "metadata": {
        "colab": {
          "base_uri": "https://localhost:8080/"
        },
        "id": "Q2lPtegC4vIj",
        "outputId": "f9cd6947-ff59-4e14-b3aa-0eda3ba57a7f"
      },
      "source": [
        "print('Optimized Simple Tree Training R^2 score:', r2_score(y_train, simple_tree_5.predict(X_train)))\n",
        "print('Optimized Simple Tree Testing R^2 score:', r2_score(y_test, simple_tree_5.predict(X_test)))"
      ],
      "execution_count": null,
      "outputs": [
        {
          "output_type": "stream",
          "text": [
            "Optimized Simple Tree Training R^2 score: 0.6039254897160836\n",
            "Optimized Simple Tree Testing R^2 score: 0.5947470502499344\n"
          ],
          "name": "stdout"
        }
      ]
    },
    {
      "cell_type": "code",
      "metadata": {
        "colab": {
          "base_uri": "https://localhost:8080/"
        },
        "id": "sjEW1UBt6VON",
        "outputId": "fe870d61-1acb-496e-dd54-17104b0fa57a"
      },
      "source": [
        "print('Bagged Trees n_estimators at 400 Training Score:', bt_400_train_score)\n",
        "print('Bagged Trees n_estimators at 400 Testing Score:', bt_400_test_score)"
      ],
      "execution_count": null,
      "outputs": [
        {
          "output_type": "stream",
          "text": [
            "Bagged Trees n_estimators at 400 Training Score: 0.9393579272736498\n",
            "Bagged Trees n_estimators at 400 Testing Score: 0.55099315926325\n"
          ],
          "name": "stdout"
        }
      ]
    },
    {
      "cell_type": "code",
      "metadata": {
        "colab": {
          "base_uri": "https://localhost:8080/"
        },
        "id": "DWoxvp_B_T21",
        "outputId": "8b613070-93c9-406c-ca5a-6d0a946a557f"
      },
      "source": [
        "rf_train_score = rf_5.score(X_train, y_train)\n",
        "rf_test_score = rf_5.score(X_test, y_test)\n",
        "print('Random Forests R^2 Training score:', rf_train_score)\n",
        "print('Random Forests R^2 Testing score:', rf_test_score)"
      ],
      "execution_count": null,
      "outputs": [
        {
          "output_type": "stream",
          "text": [
            "Random Forests R^2 Training score: 0.6104682601982897\n",
            "Random Forests R^2 Testing score: 0.6026003233209926\n"
          ],
          "name": "stdout"
        }
      ]
    },
    {
      "cell_type": "markdown",
      "metadata": {
        "id": "8C-19J0N36wp"
      },
      "source": [
        "#RMSE Scores"
      ]
    },
    {
      "cell_type": "code",
      "metadata": {
        "colab": {
          "base_uri": "https://localhost:8080/"
        },
        "id": "SVHW3kRn64gn",
        "outputId": "5df6d2b5-049c-45c9-db52-cc6282433c0a"
      },
      "source": [
        "print('Linear Regression Training RMSE:', np.sqrt(mean_squared_error(y_train, sales_model.predict(X_train))))\n",
        "print('Linear Regression Testing RMSE:', np.sqrt(mean_squared_error(y_test, sales_model.predict(X_test))))"
      ],
      "execution_count": null,
      "outputs": [
        {
          "output_type": "stream",
          "text": [
            "Linear Regression Training RMSE: 1183.838053891126\n",
            "Linear Regression Testing RMSE: 1152.7573803143312\n"
          ],
          "name": "stdout"
        }
      ]
    },
    {
      "cell_type": "code",
      "metadata": {
        "colab": {
          "base_uri": "https://localhost:8080/"
        },
        "id": "OKL58Wn831-K",
        "outputId": "98f9710d-37a4-4ba7-9927-8b43914516f8"
      },
      "source": [
        "print('Optimized Simple Tree Training RMSE:', np.sqrt(mean_squared_error(y_train, simple_tree_5.predict(X_train))))\n",
        "print('Optimized Simple Tree Testing RMSE:', np.sqrt(mean_squared_error(y_test, simple_tree_5.predict(X_test))))"
      ],
      "execution_count": null,
      "outputs": [
        {
          "output_type": "stream",
          "text": [
            "Optimized Simple Tree Training RMSE: 1082.6656773340972\n",
            "Optimized Simple Tree Testing RMSE: 1057.3947626960721\n"
          ],
          "name": "stdout"
        }
      ]
    },
    {
      "cell_type": "code",
      "metadata": {
        "colab": {
          "base_uri": "https://localhost:8080/"
        },
        "id": "g5mo_7kl15TW",
        "outputId": "5564fceb-9460-49ea-86f1-ecd2f93b3088"
      },
      "source": [
        "mse_bt_train = MSE(y_train, bt_400.predict(X_train))\n",
        "mse_bt_test = MSE(y_test, bt_400.predict(X_test))\n",
        "print('Bagged Tree Training RMSE:', np.sqrt(mse_bt_train))\n",
        "print('Bagged Tree Testing RMSE:', np.sqrt(mse_bt_test))"
      ],
      "execution_count": null,
      "outputs": [
        {
          "output_type": "stream",
          "text": [
            "Bagged Tree Training RMSE: 423.6360797480683\n",
            "Bagged Tree Testing RMSE: 1113.0137805357635\n"
          ],
          "name": "stdout"
        }
      ]
    },
    {
      "cell_type": "code",
      "metadata": {
        "colab": {
          "base_uri": "https://localhost:8080/"
        },
        "id": "iBppoYhq68cQ",
        "outputId": "7395538d-e3e3-42b8-9d5a-7dafee2845a7"
      },
      "source": [
        "print('Random Forests Training RMSE:', np.sqrt(MSE(y_train, rf_5.predict(X_train))))\n",
        "print('Random Forests Testing RMSE:', np.sqrt(MSE(y_test, rf_5.predict(X_test))))"
      ],
      "execution_count": null,
      "outputs": [
        {
          "output_type": "stream",
          "text": [
            "Random Forests Training RMSE: 1073.6861410348588\n",
            "Random Forests Testing RMSE: 1047.0991749300013\n"
          ],
          "name": "stdout"
        }
      ]
    },
    {
      "cell_type": "markdown",
      "metadata": {
        "id": "YimpV3LR34tE"
      },
      "source": [
        "#Recommended model\n",
        "The model I would most recommend is the Random Forests due to the highest performing R^2 scores between its training and testing, as well as a similar RMSE score that is lower or equal to the other models for testing."
      ]
    }
  ]
}